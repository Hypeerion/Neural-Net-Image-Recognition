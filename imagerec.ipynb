{
 "cells": [
  {
   "cell_type": "markdown",
   "metadata": {
    "collapsed": true
   },
   "source": [
    "# Basic Image Recognition Using Neural Nets\n",
    "\n",
    "In This project, we will be utilizing feed-forward, convoluted neural networks to classify images.\n",
    "\n",
    "Neural networks are ideal for image classification problems due to their ability to break down the recognition into hierarchical steps for each hidden layer of the neural net.\n",
    "\n",
    "For instance:\n",
    "\n",
    "- The first layer one might be taught to recognize a small feature of the face, such as the edge or outline of the ear, eye, nose etc.\n",
    "\n",
    "- The second layer might piece those disparate edges or chunks into a single recognizable chunk of the face itself.\n",
    "\n",
    "- The third layer might be able to approximate the entire face itself, and be able to reliably predict the identity of the person."
   ]
  },
  {
   "cell_type": "markdown",
   "metadata": {},
   "source": [
    "## The Dataset\n",
    "\n",
    "To conduct this project, we will be utilizing a [dataset](https://scikit-learn.org/stable/modules/generated/sklearn.datasets.load_digits.html#sklearn.datasets.load_digits) that comes pre-loaded with the [sklearn library](https://scikit-learn.org/stable/).  \n",
    "\n",
    "The load_digits function of sklearn contains the dataset of handwritten digits collected by the [UCI Repository](https://archive.ics.uci.edu/ml/index.php).\n",
    "\n",
    "Each image contained in the dataset is made up of a row of 8 pixels, with 8 rows making up a complete 8x8 pixel image.  To view the image, we simply stack the rows and plot them with matplotlib."
   ]
  },
  {
   "cell_type": "code",
   "execution_count": 194,
   "metadata": {},
   "outputs": [],
   "source": [
    "# importing the dataset from the sklearn.datasets\n",
    "from sklearn.datasets import load_digits\n",
    "\n",
    "# importing other relevant modules\n",
    "import numpy as np\n",
    "import pandas as pd\n",
    "from matplotlib import pyplot as plt\n",
    "import seaborn as sns\n",
    "%matplotlib inline"
   ]
  },
  {
   "cell_type": "code",
   "execution_count": 195,
   "metadata": {},
   "outputs": [
    {
     "data": {
      "text/plain": [
       "dict_keys(['data', 'target', 'frame', 'feature_names', 'target_names', 'images', 'DESCR'])"
      ]
     },
     "execution_count": 195,
     "metadata": {},
     "output_type": "execute_result"
    }
   ],
   "source": [
    "# viewing format of dataset for data prep, eventually we want it in a\n",
    "# pandas dataframe\n",
    "\n",
    "image_array = load_digits()\n",
    "\n",
    "image_array.keys()"
   ]
  },
  {
   "cell_type": "code",
   "execution_count": 196,
   "metadata": {},
   "outputs": [
    {
     "name": "stdout",
     "output_type": "stream",
     "text": [
      "(1797, 64)\n"
     ]
    },
    {
     "data": {
      "text/html": [
       "<div>\n",
       "<style scoped>\n",
       "    .dataframe tbody tr th:only-of-type {\n",
       "        vertical-align: middle;\n",
       "    }\n",
       "\n",
       "    .dataframe tbody tr th {\n",
       "        vertical-align: top;\n",
       "    }\n",
       "\n",
       "    .dataframe thead th {\n",
       "        text-align: right;\n",
       "    }\n",
       "</style>\n",
       "<table border=\"1\" class=\"dataframe\">\n",
       "  <thead>\n",
       "    <tr style=\"text-align: right;\">\n",
       "      <th></th>\n",
       "      <th>0</th>\n",
       "      <th>1</th>\n",
       "      <th>2</th>\n",
       "      <th>3</th>\n",
       "      <th>4</th>\n",
       "      <th>5</th>\n",
       "      <th>6</th>\n",
       "      <th>7</th>\n",
       "      <th>8</th>\n",
       "      <th>9</th>\n",
       "      <th>...</th>\n",
       "      <th>54</th>\n",
       "      <th>55</th>\n",
       "      <th>56</th>\n",
       "      <th>57</th>\n",
       "      <th>58</th>\n",
       "      <th>59</th>\n",
       "      <th>60</th>\n",
       "      <th>61</th>\n",
       "      <th>62</th>\n",
       "      <th>63</th>\n",
       "    </tr>\n",
       "  </thead>\n",
       "  <tbody>\n",
       "    <tr>\n",
       "      <th>0</th>\n",
       "      <td>0.0</td>\n",
       "      <td>0.0</td>\n",
       "      <td>5.0</td>\n",
       "      <td>13.0</td>\n",
       "      <td>9.0</td>\n",
       "      <td>1.0</td>\n",
       "      <td>0.0</td>\n",
       "      <td>0.0</td>\n",
       "      <td>0.0</td>\n",
       "      <td>0.0</td>\n",
       "      <td>...</td>\n",
       "      <td>0.0</td>\n",
       "      <td>0.0</td>\n",
       "      <td>0.0</td>\n",
       "      <td>0.0</td>\n",
       "      <td>6.0</td>\n",
       "      <td>13.0</td>\n",
       "      <td>10.0</td>\n",
       "      <td>0.0</td>\n",
       "      <td>0.0</td>\n",
       "      <td>0.0</td>\n",
       "    </tr>\n",
       "    <tr>\n",
       "      <th>1</th>\n",
       "      <td>0.0</td>\n",
       "      <td>0.0</td>\n",
       "      <td>0.0</td>\n",
       "      <td>12.0</td>\n",
       "      <td>13.0</td>\n",
       "      <td>5.0</td>\n",
       "      <td>0.0</td>\n",
       "      <td>0.0</td>\n",
       "      <td>0.0</td>\n",
       "      <td>0.0</td>\n",
       "      <td>...</td>\n",
       "      <td>0.0</td>\n",
       "      <td>0.0</td>\n",
       "      <td>0.0</td>\n",
       "      <td>0.0</td>\n",
       "      <td>0.0</td>\n",
       "      <td>11.0</td>\n",
       "      <td>16.0</td>\n",
       "      <td>10.0</td>\n",
       "      <td>0.0</td>\n",
       "      <td>0.0</td>\n",
       "    </tr>\n",
       "    <tr>\n",
       "      <th>2</th>\n",
       "      <td>0.0</td>\n",
       "      <td>0.0</td>\n",
       "      <td>0.0</td>\n",
       "      <td>4.0</td>\n",
       "      <td>15.0</td>\n",
       "      <td>12.0</td>\n",
       "      <td>0.0</td>\n",
       "      <td>0.0</td>\n",
       "      <td>0.0</td>\n",
       "      <td>0.0</td>\n",
       "      <td>...</td>\n",
       "      <td>5.0</td>\n",
       "      <td>0.0</td>\n",
       "      <td>0.0</td>\n",
       "      <td>0.0</td>\n",
       "      <td>0.0</td>\n",
       "      <td>3.0</td>\n",
       "      <td>11.0</td>\n",
       "      <td>16.0</td>\n",
       "      <td>9.0</td>\n",
       "      <td>0.0</td>\n",
       "    </tr>\n",
       "    <tr>\n",
       "      <th>3</th>\n",
       "      <td>0.0</td>\n",
       "      <td>0.0</td>\n",
       "      <td>7.0</td>\n",
       "      <td>15.0</td>\n",
       "      <td>13.0</td>\n",
       "      <td>1.0</td>\n",
       "      <td>0.0</td>\n",
       "      <td>0.0</td>\n",
       "      <td>0.0</td>\n",
       "      <td>8.0</td>\n",
       "      <td>...</td>\n",
       "      <td>9.0</td>\n",
       "      <td>0.0</td>\n",
       "      <td>0.0</td>\n",
       "      <td>0.0</td>\n",
       "      <td>7.0</td>\n",
       "      <td>13.0</td>\n",
       "      <td>13.0</td>\n",
       "      <td>9.0</td>\n",
       "      <td>0.0</td>\n",
       "      <td>0.0</td>\n",
       "    </tr>\n",
       "    <tr>\n",
       "      <th>4</th>\n",
       "      <td>0.0</td>\n",
       "      <td>0.0</td>\n",
       "      <td>0.0</td>\n",
       "      <td>1.0</td>\n",
       "      <td>11.0</td>\n",
       "      <td>0.0</td>\n",
       "      <td>0.0</td>\n",
       "      <td>0.0</td>\n",
       "      <td>0.0</td>\n",
       "      <td>0.0</td>\n",
       "      <td>...</td>\n",
       "      <td>0.0</td>\n",
       "      <td>0.0</td>\n",
       "      <td>0.0</td>\n",
       "      <td>0.0</td>\n",
       "      <td>0.0</td>\n",
       "      <td>2.0</td>\n",
       "      <td>16.0</td>\n",
       "      <td>4.0</td>\n",
       "      <td>0.0</td>\n",
       "      <td>0.0</td>\n",
       "    </tr>\n",
       "  </tbody>\n",
       "</table>\n",
       "<p>5 rows × 64 columns</p>\n",
       "</div>"
      ],
      "text/plain": [
       "    0    1    2     3     4     5    6    7    8    9   ...   54   55   56  \\\n",
       "0  0.0  0.0  5.0  13.0   9.0   1.0  0.0  0.0  0.0  0.0  ...  0.0  0.0  0.0   \n",
       "1  0.0  0.0  0.0  12.0  13.0   5.0  0.0  0.0  0.0  0.0  ...  0.0  0.0  0.0   \n",
       "2  0.0  0.0  0.0   4.0  15.0  12.0  0.0  0.0  0.0  0.0  ...  5.0  0.0  0.0   \n",
       "3  0.0  0.0  7.0  15.0  13.0   1.0  0.0  0.0  0.0  8.0  ...  9.0  0.0  0.0   \n",
       "4  0.0  0.0  0.0   1.0  11.0   0.0  0.0  0.0  0.0  0.0  ...  0.0  0.0  0.0   \n",
       "\n",
       "    57   58    59    60    61   62   63  \n",
       "0  0.0  6.0  13.0  10.0   0.0  0.0  0.0  \n",
       "1  0.0  0.0  11.0  16.0  10.0  0.0  0.0  \n",
       "2  0.0  0.0   3.0  11.0  16.0  9.0  0.0  \n",
       "3  0.0  7.0  13.0  13.0   9.0  0.0  0.0  \n",
       "4  0.0  0.0   2.0  16.0   4.0  0.0  0.0  \n",
       "\n",
       "[5 rows x 64 columns]"
      ]
     },
     "execution_count": 196,
     "metadata": {},
     "output_type": "execute_result"
    }
   ],
   "source": [
    "# converting the data (or features) into a pandas dataframe\n",
    "\n",
    "data = pd.DataFrame(image_array['data'])\n",
    "\n",
    "print(data.shape)\n",
    "\n",
    "data.head()"
   ]
  },
  {
   "cell_type": "code",
   "execution_count": 197,
   "metadata": {},
   "outputs": [
    {
     "name": "stdout",
     "output_type": "stream",
     "text": [
      "(1797,)\n"
     ]
    },
    {
     "data": {
      "text/plain": [
       "0    0\n",
       "1    1\n",
       "2    2\n",
       "3    3\n",
       "4    4\n",
       "dtype: int32"
      ]
     },
     "execution_count": 197,
     "metadata": {},
     "output_type": "execute_result"
    }
   ],
   "source": [
    "# converting the labels into a pandas series\n",
    "\n",
    "labels = pd.Series(image_array['target'])\n",
    "\n",
    "print(labels.shape)\n",
    "\n",
    "labels.head()"
   ]
  },
  {
   "cell_type": "code",
   "execution_count": 198,
   "metadata": {},
   "outputs": [
    {
     "data": {
      "text/plain": [
       "<matplotlib.image.AxesImage at 0x1905dc07d68>"
      ]
     },
     "execution_count": 198,
     "metadata": {},
     "output_type": "execute_result"
    },
    {
     "data": {
      "image/png": "[encoded data removed]",
      "text/plain": [
       "<Figure size 432x288 with 1 Axes>"
      ]
     },
     "metadata": {
      "needs_background": "light"
     },
     "output_type": "display_data"
    }
   ],
   "source": [
    "# displaying the images by reshaping the rows and using plt.imshow to chart them\n",
    "\n",
    "image_1 = data.iloc[0]        # first row in dataset\n",
    "image_1_vals = image_1.values  # values extracted\n",
    "image_1 = image_1_vals.reshape(8,8)  # reshaped into a grid to chart\n",
    "\n",
    "plt.imshow(image_1, cmap='gray_r')  # converting to grayscale and plotting\n"
   ]
  },
  {
   "cell_type": "markdown",
   "metadata": {},
   "source": [
    "### Next, let's view a few more of the images to get a rough idea of what our dataset appears as to the human eye.\n"
   ]
  },
  {
   "cell_type": "code",
   "execution_count": 199,
   "metadata": {},
   "outputs": [
    {
     "data": {
      "image/png": "[encoded data removed]",
      "text/plain": [
       "<Figure size 720x720 with 8 Axes>"
      ]
     },
     "metadata": {
      "needs_background": "light"
     },
     "output_type": "display_data"
    }
   ],
   "source": [
    "# plotting a few more images from our dataset using a loop\n",
    "# we will create a plot with two rows and four columns\n",
    "\n",
    "fig = plt.figure(figsize=(10,10))  # creating figure to hold our images\n",
    "\n",
    "top_row = [0,50,250,350]  # images for the top row\n",
    "\n",
    "bot_row = [1000, 1250, 1350, 1400] # images for the bottom row \n",
    "\n",
    "# filling our chartwith images\n",
    "for i in range(4):\n",
    "    image = data.iloc[top_row[i]]   # grabbing each image from top_row list\n",
    "    image = image.values       # we only want the values from this series\n",
    "    image = image.reshape(8,8)  # reshaping image for plotting\n",
    "    \n",
    "    image_bot = data.iloc[bot_row[i]]  # repeating steps for bottom row\n",
    "    image_bot = image_bot.values\n",
    "    image_bot = image_bot.reshape(8,8)\n",
    "    \n",
    "    ax = fig.add_subplot(2,4,i+1)  # plotting the top row\n",
    "    ax.imshow(image)\n",
    "\n",
    "    ax = fig.add_subplot(2,4,i+5) # plotting bottom row\n",
    "    ax.imshow(image_bot)"
   ]
  },
  {
   "cell_type": "markdown",
   "metadata": {},
   "source": [
    "### The image resolution is very low, but this speeds up the training of the neural network.  Most of the images are easily recognizable to a human at this resolution, but some are relatively difficult."
   ]
  },
  {
   "cell_type": "markdown",
   "metadata": {},
   "source": [
    "## Using K-Nearest Neighbors to Identify Numbers \n",
    "\n",
    "Before we jump to building a neural network, we will first see how a standard machine learning algorithm does tackling the problem of image classification.  Because linear regression and logistic regression assume some linearity between the data and the labels, we will use K-Nearest Neighbors.\n",
    "\n",
    "K-Nearest Neighbors simply finds clustered groups within the data, which could be useful for image classification.  We will play around with the k-value hyperparameter to see which yields the best accuracy, and use k-fold cross-validation for our training/testing groups."
   ]
  },
  {
   "cell_type": "code",
   "execution_count": 200,
   "metadata": {},
   "outputs": [],
   "source": [
    "# importing relevant modules\n",
    "from sklearn.neighbors import KNeighborsClassifier # importing k-nearest neighbors\n",
    "from sklearn.model_selection import cross_val_score  # for performing k-fold cross-validation on accuracy\n"
   ]
  },
  {
   "cell_type": "code",
   "execution_count": 201,
   "metadata": {},
   "outputs": [
    {
     "data": {
      "text/plain": [
       "[0.9643933766635715,\n",
       " 0.9671711544413494,\n",
       " 0.9660646858557721,\n",
       " 0.9638409161250386,\n",
       " 0.9627282575054161,\n",
       " 0.9593856391210152,\n",
       " 0.9599458372021046,\n",
       " 0.9582760755184154,\n",
       " 0.9566109563602601,\n",
       " 0.954942742185082]"
      ]
     },
     "execution_count": 201,
     "metadata": {},
     "output_type": "execute_result"
    }
   ],
   "source": [
    "# performing k-nearest neighbors on dataset using a mix of k-values\n",
    "\n",
    "k_values = [1,2,3,4,5,6,7,8,9,10]  # different k_values for hyperparameter optimization\n",
    "\n",
    "accuracy = []  # empty list to hold accuracy measure for each k_value\n",
    "\n",
    "\n",
    "# performing k-nearest neighbor algorithm on data for each k_value\n",
    "\n",
    "for k in k_values:\n",
    "    knn = KNeighborsClassifier(n_neighbors=k, n_jobs=8)  # creating knn object with k_value 'k'\n",
    "    \n",
    "    scores = cross_val_score(knn, data, labels, cv=5, scoring='accuracy') # performing k-fold cross_validation\n",
    "    \n",
    "    accuracy.append(scores.mean())    # taking mean accuracy of all folds, and appending to scores list\n",
    "    \n",
    "    \n",
    "accuracy"
   ]
  },
  {
   "cell_type": "code",
   "execution_count": 202,
   "metadata": {},
   "outputs": [
    {
     "data": {
      "image/png": "[encoded data removed]",
      "text/plain": [
       "<Figure size 432x288 with 1 Axes>"
      ]
     },
     "metadata": {
      "needs_background": "light"
     },
     "output_type": "display_data"
    }
   ],
   "source": [
    "# plotting the accuracy against the k_values\n",
    "\n",
    "sns.lineplot(k_values, accuracy)\n",
    "plt.show()"
   ]
  },
  {
   "cell_type": "markdown",
   "metadata": {},
   "source": [
    "## Conclusion\n",
    "\n",
    "Lower k-values appeared to work best with the K-Nearest Neighbors algorithm, with a k-value of 2 yielding accuracy of .967\n",
    "\n",
    "The upside:\n",
    " - K Nearest Neighbors is accurate at image classification.\n",
    " \n",
    "The downside:\n",
    " - K Nearest Neighbors draws a lot of resources for it's prediction phase, essentially re-training the entire fitting for each new predicted value.  \n",
    " - It is very hard to see what KNN \"is doing\"\n",
    " \n"
   ]
  },
  {
   "cell_type": "markdown",
   "metadata": {},
   "source": [
    "## Lower Level Analysis of Over-fitting On K Nearest Neighbors\n",
    "\n",
    "Using cross_val_score to do our k-fold cross validation is a convenient way for measuring accuracy quickly and efficiently with less lines of code, but it does have some drawbacks.  One of these is that it doesn't allow for us to peek \"under the hood\" to check for over-fitting on the training subset of the data.  \n",
    "\n",
    "So below, we will manually split our data into five folds, and make predictions not only on the \"test\" folds, but also on the training folds so we can see how the accuracy of predictions compares between the two.  If the accuracy is higher on the train folds than on the testing folds, we can tell there is over-fitting."
   ]
  },
  {
   "cell_type": "markdown",
   "metadata": {},
   "source": [
    "Everything looks as expected in our splitting function.  Now we need to write a function to iterate over the data and features, performing kfold cross validation as well as testing our K Nearest Neighbors algorithm to make predictions on the training data as well as the testing data..."
   ]
  },
  {
   "cell_type": "code",
   "execution_count": 203,
   "metadata": {},
   "outputs": [
    {
     "data": {
      "text/html": [
       "<div>\n",
       "<style scoped>\n",
       "    .dataframe tbody tr th:only-of-type {\n",
       "        vertical-align: middle;\n",
       "    }\n",
       "\n",
       "    .dataframe tbody tr th {\n",
       "        vertical-align: top;\n",
       "    }\n",
       "\n",
       "    .dataframe thead th {\n",
       "        text-align: right;\n",
       "    }\n",
       "</style>\n",
       "<table border=\"1\" class=\"dataframe\">\n",
       "  <thead>\n",
       "    <tr style=\"text-align: right;\">\n",
       "      <th></th>\n",
       "      <th>testing_accuracy</th>\n",
       "      <th>training_accuracy</th>\n",
       "    </tr>\n",
       "    <tr>\n",
       "      <th>k</th>\n",
       "      <th></th>\n",
       "      <th></th>\n",
       "    </tr>\n",
       "  </thead>\n",
       "  <tbody>\n",
       "    <tr>\n",
       "      <th>1.0</th>\n",
       "      <td>0.983287</td>\n",
       "      <td>1.000000</td>\n",
       "    </tr>\n",
       "    <tr>\n",
       "      <th>2.0</th>\n",
       "      <td>0.977716</td>\n",
       "      <td>0.990960</td>\n",
       "    </tr>\n",
       "    <tr>\n",
       "      <th>3.0</th>\n",
       "      <td>0.988858</td>\n",
       "      <td>0.992350</td>\n",
       "    </tr>\n",
       "    <tr>\n",
       "      <th>4.0</th>\n",
       "      <td>0.974930</td>\n",
       "      <td>0.991655</td>\n",
       "    </tr>\n",
       "    <tr>\n",
       "      <th>5.0</th>\n",
       "      <td>0.983287</td>\n",
       "      <td>0.990264</td>\n",
       "    </tr>\n",
       "    <tr>\n",
       "      <th>6.0</th>\n",
       "      <td>0.977716</td>\n",
       "      <td>0.986787</td>\n",
       "    </tr>\n",
       "    <tr>\n",
       "      <th>7.0</th>\n",
       "      <td>0.983287</td>\n",
       "      <td>0.988873</td>\n",
       "    </tr>\n",
       "    <tr>\n",
       "      <th>8.0</th>\n",
       "      <td>0.980501</td>\n",
       "      <td>0.988178</td>\n",
       "    </tr>\n",
       "    <tr>\n",
       "      <th>9.0</th>\n",
       "      <td>0.977716</td>\n",
       "      <td>0.986787</td>\n",
       "    </tr>\n",
       "    <tr>\n",
       "      <th>10.0</th>\n",
       "      <td>0.977716</td>\n",
       "      <td>0.986787</td>\n",
       "    </tr>\n",
       "  </tbody>\n",
       "</table>\n",
       "</div>"
      ],
      "text/plain": [
       "      testing_accuracy  training_accuracy\n",
       "k                                        \n",
       "1.0           0.983287           1.000000\n",
       "2.0           0.977716           0.990960\n",
       "3.0           0.988858           0.992350\n",
       "4.0           0.974930           0.991655\n",
       "5.0           0.983287           0.990264\n",
       "6.0           0.977716           0.986787\n",
       "7.0           0.983287           0.988873\n",
       "8.0           0.980501           0.988178\n",
       "9.0           0.977716           0.986787\n",
       "10.0          0.977716           0.986787"
      ]
     },
     "execution_count": 203,
     "metadata": {},
     "output_type": "execute_result"
    }
   ],
   "source": [
    "#importing accuracy score since we are no longer using cross_val_score, which does this for us\n",
    "from sklearn.metrics import accuracy_score\n",
    "\n",
    "# writing function to perform low level K-fold cross validation and check for over-fitting\n",
    "\n",
    "def over_fit(data, labels):\n",
    "    # create datafram to hold our testing results\n",
    "    df = pd.DataFrame(columns=['k', 'training_accuracy', 'testing_accuracy'])\n",
    "\n",
    "    # shuffling index of data and labels\n",
    "    shuffled_index = np.random.RandomState(42).permutation(data.index) \n",
    "    shuffled_data = data.iloc[shuffled_index].reset_index(drop=True)\n",
    "    shuffled_labels = labels.iloc[shuffled_index].reset_index(drop=True)\n",
    "    k_values = [1,2,3,4,5,6,7,8,9,10]  # different k_values for hyperparameter optimization\n",
    "\n",
    "    #creating loop to perform k_fold cross_validation\n",
    "    for i in range(5):\n",
    "        index_start = int(len(shuffled_data)/5) * i\n",
    "        index_end = int(len(shuffled_data)/5) * (i+1)\n",
    "        \n",
    "        # using index range to pick out 1/5 of the data for test data each run\n",
    "        test_features = shuffled_data.iloc[index_start:index_end]\n",
    "        test_labels = shuffled_labels.iloc[index_start:index_end]\n",
    "        \n",
    "        # dropping the test data to create the other 4/5 as training data for each run\n",
    "        train_features = shuffled_data.drop(test_features.index)\n",
    "        train_labels = shuffled_labels.drop(test_labels.index)\n",
    "\n",
    "            # creating loop to use each k-value in k-value list\n",
    "        for k in k_values:\n",
    "            row_for_df = []\n",
    "            \n",
    "            knn = KNeighborsClassifier(n_neighbors=k, n_jobs=8)\n",
    "            knn.fit(train_features, train_labels)\n",
    "            \n",
    "            #calculating accuracy on training data \n",
    "            train_predict = knn.predict(train_features)\n",
    "            train_accuracy = accuracy_score(train_labels, train_predict)\n",
    "            \n",
    "            #calculating accuracy on testing data\n",
    "            test_predict = knn.predict(test_features)\n",
    "            test_accuracy = accuracy_score(test_labels, test_predict)\n",
    "            \n",
    "            # appending data to row_for_df, and then appending to our dataframe for easy plotting\n",
    "            row_for_df.append([k, train_accuracy, test_accuracy])\n",
    "            series_to_append = pd.DataFrame(row_for_df, columns=['k', 'training_accuracy', 'testing_accuracy'])\n",
    "            df = pd.concat([df, series_to_append], axis=0, sort=True)\n",
    "        \n",
    "        # averaging the accuracy of each fold for both training predictions and testing predictions\n",
    "        df.reset_index(drop=True, inplace=True)  \n",
    "        df = df.groupby('k').mean()\n",
    "        \n",
    "            \n",
    "    return df\n",
    "\n",
    "# testing our function for KNN accuracy across training and testing data by k-value\n",
    "accuracy = over_fit(data, labels)\n",
    "accuracy\n",
    "        \n",
    "    \n"
   ]
  },
  {
   "cell_type": "code",
   "execution_count": 204,
   "metadata": {},
   "outputs": [
    {
     "data": {
      "image/png": "[encoded data removed]",
      "text/plain": [
       "<Figure size 432x288 with 1 Axes>"
      ]
     },
     "metadata": {
      "needs_background": "light"
     },
     "output_type": "display_data"
    }
   ],
   "source": [
    "sns.lineplot(x=accuracy.index, y=accuracy.testing_accuracy, label=\"Testing Accuracy\", color='blue')\n",
    "sns.lineplot(x=accuracy.index, y=accuracy.training_accuracy, label=\"Training Accuracy\", color='red')\n",
    "\n",
    "plt.show()"
   ]
  },
  {
   "cell_type": "markdown",
   "metadata": {},
   "source": [
    "## Conclusions\n",
    "\n",
    "There is a very clear mark where the k-value of KNN is set to 1, where the accuracy on the training data is at 100%, but the accuracy of the testing data is lower than optimal.\n",
    "\n",
    "As the k-value increases to 3, the training accuracy drops, and the testing accuracy increases.  This means that in this case, having a very low k-value resulted in over-fitting of the data.\n",
    "\n",
    "Looking at the graph closely, it seems to follow the \"elbow rule\" where once the training accuracy stops to drop steeply, we are nearly optimized as far as over-fitting is concerned."
   ]
  },
  {
   "cell_type": "markdown",
   "metadata": {},
   "source": [
    "## Single Hidden Layer Neural Network Performance and Accuracy\n",
    "\n",
    "Next, we will try to predict the images using a neural network with a single  hidden layer to see how the performance/accuracy compares."
   ]
  },
  {
   "cell_type": "code",
   "execution_count": 205,
   "metadata": {},
   "outputs": [
    {
     "data": {
      "text/plain": [
       "[0.8024636335499846,\n",
       " 0.9087403280718045,\n",
       " 0.9260213556174559,\n",
       " 0.934348498916744,\n",
       " 0.9360229031259673,\n",
       " 0.9577143299288146,\n",
       " 0.9426942123181676]"
      ]
     },
     "execution_count": 205,
     "metadata": {},
     "output_type": "execute_result"
    }
   ],
   "source": [
    "# importing relevant modules\n",
    "from sklearn.neural_network import MLPClassifier\n",
    "\n",
    "neurons = [8,16,32,64,128,256,512]   # number of neurons in our single hidden layer NN\n",
    "\n",
    "nn_accuracy = []     # empty list to hold accuracy measure for each NN with differing neuron count\n",
    "\n",
    "for n in neurons:\n",
    "    # creating NN with 'n' number of neurons in single hidden layer\n",
    "    mlp = MLPClassifier(hidden_layer_sizes=(n,), random_state=0)  \n",
    "    \n",
    "    # list of accuracy scores for each k-fold\n",
    "    scores = cross_val_score(mlp, data, labels, cv=5, scoring='accuracy', n_jobs=8) \n",
    "    \n",
    "    # appending mean accuracy score to nn_accuracy list\n",
    "    nn_accuracy.append(scores.mean())                 \n",
    "    \n",
    "nn_accuracy"
   ]
  },
  {
   "cell_type": "code",
   "execution_count": 206,
   "metadata": {},
   "outputs": [
    {
     "data": {
      "image/png": "[encoded data removed]",
      "text/plain": [
       "<Figure size 432x288 with 1 Axes>"
      ]
     },
     "metadata": {
      "needs_background": "light"
     },
     "output_type": "display_data"
    }
   ],
   "source": [
    "# plotting neuron count against accuracy\n",
    "\n",
    "sns.lineplot(neurons,nn_accuracy)\n",
    "plt.show()"
   ]
  },
  {
   "cell_type": "markdown",
   "metadata": {},
   "source": [
    "## Conclusions\n",
    "\n",
    "- The single hidden layer neural network is increasingly accurate the more neurons added to the single hidden layer \n",
    "\n",
    "- Although the training time is long, the prediction time is much faster than KNN\n",
    "\n",
    "- The accuracy of the single hidden layer neural network with 256 neurons nearly matched the accuracy of the KNN algorithm with hyperparameter optimization.\n",
    "\n"
   ]
  },
  {
   "cell_type": "markdown",
   "metadata": {},
   "source": [
    "## Neural Net Performance With Two Hidden Layers\n",
    "\n",
    "Since adding more neurons to a single hidden layer resulted in a higher accuracy the more neurons we added, the next logical step would be to see if adding additional layers of neurons increases the accuracy of our model.  We will make some minor alterations to our previous neural net code to allow for an additional hidden layer."
   ]
  },
  {
   "cell_type": "code",
   "execution_count": 207,
   "metadata": {},
   "outputs": [
    {
     "data": {
      "text/plain": [
       "[0.9338053234292788,\n",
       " 0.9404596100278552,\n",
       " 0.9532729805013928,\n",
       " 0.9515970287836583]"
      ]
     },
     "execution_count": 207,
     "metadata": {},
     "output_type": "execute_result"
    }
   ],
   "source": [
    "dual_neurons = [(64,64), (128,128), (256,256), (512,512)]   # number of neurons in our double hidden layer NN\n",
    "\n",
    "nn_accuracy = []     # empty list to hold accuracy measure for each NN with differing neuron count\n",
    "\n",
    "for n in dual_neurons:\n",
    "    # creating NN with 'n' number of neurons in single hidden layer\n",
    "    mlp = MLPClassifier(hidden_layer_sizes=n, random_state=0)  \n",
    "    \n",
    "    # list of accuracy scores for each k-fold\n",
    "    scores = cross_val_score(mlp, data, labels, cv=5, scoring='accuracy', n_jobs=8) \n",
    "    \n",
    "    # appending mean accuracy score to nn_accuracy list\n",
    "    nn_accuracy.append(scores.mean())                 \n",
    "    \n",
    "nn_accuracy"
   ]
  },
  {
   "cell_type": "code",
   "execution_count": 208,
   "metadata": {},
   "outputs": [
    {
     "data": {
      "image/png": "[encoded data removed]",
      "text/plain": [
       "<Figure size 432x288 with 1 Axes>"
      ]
     },
     "metadata": {
      "needs_background": "light"
     },
     "output_type": "display_data"
    }
   ],
   "source": [
    "# plotting accuracy of dual hidden layer neural net\n",
    "\n",
    "x = [x[0] for x in dual_neurons]  # list comprehension of the first number of neurons in each run\n",
    "y = nn_accuracy\n",
    "\n",
    "sns.lineplot(x,y)\n",
    "plt.show()\n",
    "\n",
    "\n"
   ]
  },
  {
   "cell_type": "markdown",
   "metadata": {},
   "source": [
    "## Conclusions\n",
    "\n",
    "Overall, the optimized dual hidden layer neural network performed almost exactly as well as the single hidden layer version of our model.  Adding the 2nd layer in this case was not worth the extra processing power, and slightly underperformed the single hidden layer version in accuracy.  The difference was so close that changing the amount of k-folds could easily swing the balance, and it is within the margin of error of our experimentation.\n",
    "\n",
    "Using more hidden layers is known by experts to result in more over-fitting of the data.  To avoid this coming through in our testing, we will try to use a larger number of k-folds in our cross-validation, while simultaneously increasing the number of hidden layers to three."
   ]
  },
  {
   "cell_type": "markdown",
   "metadata": {},
   "source": [
    "## Three Hidden Layer Neural Network With 6-K-Fold Cross-validation\n",
    "\n",
    "We will perform the same task from before, but with three hidden layers with varying amounts of neurons, and 6 folds in our cross_val_score function."
   ]
  },
  {
   "cell_type": "code",
   "execution_count": 209,
   "metadata": {},
   "outputs": [
    {
     "data": {
      "text/plain": [
       "[0.9510219249349684,\n",
       " 0.9504756596060945,\n",
       " 0.9638331475287997,\n",
       " 0.9593775548123377]"
      ]
     },
     "execution_count": 209,
     "metadata": {},
     "output_type": "execute_result"
    }
   ],
   "source": [
    "trip_neurons = [(10,10,10), (64,64,64), (256,256), (128,128,128)]   # number of neurons in our triple hidden layer NN\n",
    "\n",
    "nn_accuracy = []     # empty list to hold accuracy measure for each NN with differing neuron count\n",
    "\n",
    "for n in dual_neurons:\n",
    "    # creating NN with 'n' number of neurons in single hidden layer\n",
    "    mlp = MLPClassifier(hidden_layer_sizes=n, random_state=0)  \n",
    "    \n",
    "    # list of accuracy scores for each k-fold\n",
    "    scores = cross_val_score(mlp, data, labels, cv=6, scoring='accuracy', n_jobs=8) \n",
    "    \n",
    "    # appending mean accuracy score to nn_accuracy list\n",
    "    nn_accuracy.append(scores.mean())                 \n",
    "    \n",
    "nn_accuracy"
   ]
  },
  {
   "cell_type": "code",
   "execution_count": 210,
   "metadata": {},
   "outputs": [
    {
     "data": {
      "image/png": "[encoded data removed]",
      "text/plain": [
       "<Figure size 432x288 with 1 Axes>"
      ]
     },
     "metadata": {
      "needs_background": "light"
     },
     "output_type": "display_data"
    }
   ],
   "source": [
    "# plotting accuracy of dual hidden layer neural net\n",
    "\n",
    "x = [x[0] for x in trip_neurons]  # list comprehension of the first number of neurons in each run\n",
    "y = nn_accuracy\n",
    "\n",
    "sns.lineplot(x,y)\n",
    "plt.show()\n",
    "\n",
    "\n"
   ]
  },
  {
   "cell_type": "markdown",
   "metadata": {},
   "source": [
    "## Conclusions\n",
    "\n",
    "Three layer neural networks were able to outperform the single and double-layer neural nets by ~1% in accuracy, which could be a large improvement when dealing with large numbers.\n",
    "\n",
    "The large number of k-folds should remove any worries of over-fitting of the data, but to see where it is occurring, we will next do a lower-level breakdown of each k-fold to chart where the training prediction accuracy is high and the testing prediction accuracy is low."
   ]
  },
  {
   "cell_type": "markdown",
   "metadata": {},
   "source": [
    "## Lower Level Analysis of Over-fitting On MLPClassifier\n"
   ]
  },
  {
   "cell_type": "code",
   "execution_count": 211,
   "metadata": {},
   "outputs": [
    {
     "name": "stderr",
     "output_type": "stream",
     "text": [
      "C:\\Users\\CliffGaming\\Anaconda3\\lib\\site-packages\\sklearn\\neural_network\\_multilayer_perceptron.py:585: ConvergenceWarning: Stochastic Optimizer: Maximum iterations (200) reached and the optimization hasn't converged yet.\n",
      "  % self.max_iter, ConvergenceWarning)\n",
      "C:\\Users\\CliffGaming\\Anaconda3\\lib\\site-packages\\sklearn\\neural_network\\_multilayer_perceptron.py:585: ConvergenceWarning: Stochastic Optimizer: Maximum iterations (200) reached and the optimization hasn't converged yet.\n",
      "  % self.max_iter, ConvergenceWarning)\n",
      "C:\\Users\\CliffGaming\\Anaconda3\\lib\\site-packages\\sklearn\\neural_network\\_multilayer_perceptron.py:585: ConvergenceWarning: Stochastic Optimizer: Maximum iterations (200) reached and the optimization hasn't converged yet.\n",
      "  % self.max_iter, ConvergenceWarning)\n",
      "C:\\Users\\CliffGaming\\Anaconda3\\lib\\site-packages\\sklearn\\neural_network\\_multilayer_perceptron.py:585: ConvergenceWarning: Stochastic Optimizer: Maximum iterations (200) reached and the optimization hasn't converged yet.\n",
      "  % self.max_iter, ConvergenceWarning)\n",
      "C:\\Users\\CliffGaming\\Anaconda3\\lib\\site-packages\\sklearn\\neural_network\\_multilayer_perceptron.py:585: ConvergenceWarning: Stochastic Optimizer: Maximum iterations (200) reached and the optimization hasn't converged yet.\n",
      "  % self.max_iter, ConvergenceWarning)\n",
      "C:\\Users\\CliffGaming\\Anaconda3\\lib\\site-packages\\sklearn\\neural_network\\_multilayer_perceptron.py:585: ConvergenceWarning: Stochastic Optimizer: Maximum iterations (200) reached and the optimization hasn't converged yet.\n",
      "  % self.max_iter, ConvergenceWarning)\n"
     ]
    },
    {
     "data": {
      "text/html": [
       "<div>\n",
       "<style scoped>\n",
       "    .dataframe tbody tr th:only-of-type {\n",
       "        vertical-align: middle;\n",
       "    }\n",
       "\n",
       "    .dataframe tbody tr th {\n",
       "        vertical-align: top;\n",
       "    }\n",
       "\n",
       "    .dataframe thead th {\n",
       "        text-align: right;\n",
       "    }\n",
       "</style>\n",
       "<table border=\"1\" class=\"dataframe\">\n",
       "  <thead>\n",
       "    <tr style=\"text-align: right;\">\n",
       "      <th></th>\n",
       "      <th>testing_accuracy</th>\n",
       "      <th>training_accuracy</th>\n",
       "    </tr>\n",
       "    <tr>\n",
       "      <th>neurons</th>\n",
       "      <th></th>\n",
       "      <th></th>\n",
       "    </tr>\n",
       "  </thead>\n",
       "  <tbody>\n",
       "    <tr>\n",
       "      <th>10.0</th>\n",
       "      <td>0.933110</td>\n",
       "      <td>0.991989</td>\n",
       "    </tr>\n",
       "    <tr>\n",
       "      <th>64.0</th>\n",
       "      <td>0.979933</td>\n",
       "      <td>1.000000</td>\n",
       "    </tr>\n",
       "    <tr>\n",
       "      <th>128.0</th>\n",
       "      <td>0.969900</td>\n",
       "      <td>1.000000</td>\n",
       "    </tr>\n",
       "    <tr>\n",
       "      <th>256.0</th>\n",
       "      <td>0.989967</td>\n",
       "      <td>1.000000</td>\n",
       "    </tr>\n",
       "  </tbody>\n",
       "</table>\n",
       "</div>"
      ],
      "text/plain": [
       "         testing_accuracy  training_accuracy\n",
       "neurons                                     \n",
       "10.0             0.933110           0.991989\n",
       "64.0             0.979933           1.000000\n",
       "128.0            0.969900           1.000000\n",
       "256.0            0.989967           1.000000"
      ]
     },
     "execution_count": 211,
     "metadata": {},
     "output_type": "execute_result"
    }
   ],
   "source": [
    "# modifying former function to perform low level K-fold cross validation and check for over-fitting\n",
    "\n",
    "def over_fit(data, labels, activation_func='relu'):\n",
    "    # create datafram to hold our testing results\n",
    "    df = pd.DataFrame(columns=['neurons', 'training_accuracy', 'testing_accuracy'])\n",
    "\n",
    "    # shuffling index of data and labels\n",
    "    shuffled_index = np.random.RandomState(42).permutation(data.index) \n",
    "    shuffled_data = data.iloc[shuffled_index].reset_index(drop=True)\n",
    "    shuffled_labels = labels.iloc[shuffled_index].reset_index(drop=True)\n",
    "\n",
    "    #creating loop to perform k_fold cross_validation\n",
    "    for i in range(6):\n",
    "        index_start = int(len(shuffled_data)/6) * i\n",
    "        index_end = int(len(shuffled_data)/6) * (i+1)\n",
    "        \n",
    "        # using index range to pick out 1/6 of the data for test data each run\n",
    "        test_features = shuffled_data.iloc[index_start:index_end]\n",
    "        test_labels = shuffled_labels.iloc[index_start:index_end]\n",
    "        \n",
    "        # dropping the test data to create the other 4/5 as training data for each run\n",
    "        train_features = shuffled_data.drop(test_features.index)\n",
    "        train_labels = shuffled_labels.drop(test_labels.index)\n",
    "\n",
    "            # creating loop to use each k-value in k-value list\n",
    "        for n in trip_neurons:\n",
    "            row_for_df = []\n",
    "            \n",
    "            mlp = MLPClassifier(hidden_layer_sizes=n, random_state=0, activation=activation_func)\n",
    "            mlp.fit(train_features, train_labels)\n",
    "            \n",
    "            #calculating accuracy on training data \n",
    "            train_predict = mlp.predict(train_features)\n",
    "            train_accuracy = accuracy_score(train_labels, train_predict)\n",
    "            \n",
    "            #calculating accuracy on testing data\n",
    "            test_predict = mlp.predict(test_features)\n",
    "            test_accuracy = accuracy_score(test_labels, test_predict)\n",
    "            \n",
    "            # appending data to row_for_df, and then appending to our dataframe for easy plotting\n",
    "            row_for_df.append([n[0], train_accuracy, test_accuracy])\n",
    "            series_to_append = pd.DataFrame(row_for_df, columns=['neurons', 'training_accuracy', 'testing_accuracy'])\n",
    "            df = pd.concat([df, series_to_append], axis=0, sort=True)\n",
    "        \n",
    "        # averaging the accuracy of each fold for both training predictions and testing predictions\n",
    "        df.reset_index(drop=True, inplace=True)  \n",
    "        df = df.groupby('neurons').mean()\n",
    "        \n",
    "            \n",
    "    return df\n",
    "\n",
    "# testing our function for KNN accuracy across training and testing data by k-value\n",
    "accuracy = over_fit(data, labels)\n",
    "accuracy\n"
   ]
  },
  {
   "cell_type": "code",
   "execution_count": 212,
   "metadata": {},
   "outputs": [
    {
     "data": {
      "image/png": "[encoded data removed]",
      "text/plain": [
       "<Figure size 432x288 with 1 Axes>"
      ]
     },
     "metadata": {
      "needs_background": "light"
     },
     "output_type": "display_data"
    }
   ],
   "source": [
    "# plotting training accuracy vs testing accuracy for each number of neurons \n",
    "# on our three hidden layer neural network\n",
    "\n",
    "sns.lineplot(x=accuracy.index, y=accuracy.testing_accuracy, label=\"Testing Accuracy\", color='blue')\n",
    "sns.lineplot(x=accuracy.index, y=accuracy.training_accuracy, label=\"Training Accuracy\", color='red')\n",
    "\n",
    "plt.show()"
   ]
  },
  {
   "cell_type": "markdown",
   "metadata": {},
   "source": [
    "## Conclusions\n",
    "\n",
    "In our case, the three hidden layer neural network almost perfectly over-fit the training data no matter which amount of neurons we tested on each layer.\n",
    "\n",
    "By using our cross-validation, we were able to ignore the over-fitting by only choosing the model that best predicted the testing data.  In our case, using three hidden layers and 256 neurons per layer resulted in the optimal accuracy, predicting the unseen test data with an average accuracy score of nearly 99%.  \n",
    "\n",
    "The difference between our low-level cross-validation accuracy score and the cross_val_score functions results using 256 neurons is likely a factor of the different form of randomization used to shuffle our dataset for our manual splitting versus the \"under the hood\" usage within cross_val_score.  In the future experiments, we will be using cross_val_score exclusively to explore other activation functions and algorithms."
   ]
  },
  {
   "cell_type": "markdown",
   "metadata": {},
   "source": [
    "## Experimentations Using Different Activation Functions\n",
    "\n",
    "Sticking with our three hidden layer neural network, let's see how the accuracy changes depending on the activation function used within the MLP object."
   ]
  },
  {
   "cell_type": "code",
   "execution_count": 213,
   "metadata": {},
   "outputs": [
    {
     "name": "stderr",
     "output_type": "stream",
     "text": [
      "C:\\Users\\CliffGaming\\Anaconda3\\lib\\site-packages\\sklearn\\neural_network\\_multilayer_perceptron.py:585: ConvergenceWarning: Stochastic Optimizer: Maximum iterations (200) reached and the optimization hasn't converged yet.\n",
      "  % self.max_iter, ConvergenceWarning)\n",
      "C:\\Users\\CliffGaming\\Anaconda3\\lib\\site-packages\\sklearn\\neural_network\\_multilayer_perceptron.py:585: ConvergenceWarning: Stochastic Optimizer: Maximum iterations (200) reached and the optimization hasn't converged yet.\n",
      "  % self.max_iter, ConvergenceWarning)\n",
      "C:\\Users\\CliffGaming\\Anaconda3\\lib\\site-packages\\sklearn\\neural_network\\_multilayer_perceptron.py:585: ConvergenceWarning: Stochastic Optimizer: Maximum iterations (200) reached and the optimization hasn't converged yet.\n",
      "  % self.max_iter, ConvergenceWarning)\n",
      "C:\\Users\\CliffGaming\\Anaconda3\\lib\\site-packages\\sklearn\\neural_network\\_multilayer_perceptron.py:585: ConvergenceWarning: Stochastic Optimizer: Maximum iterations (200) reached and the optimization hasn't converged yet.\n",
      "  % self.max_iter, ConvergenceWarning)\n",
      "C:\\Users\\CliffGaming\\Anaconda3\\lib\\site-packages\\sklearn\\neural_network\\_multilayer_perceptron.py:585: ConvergenceWarning: Stochastic Optimizer: Maximum iterations (200) reached and the optimization hasn't converged yet.\n",
      "  % self.max_iter, ConvergenceWarning)\n",
      "C:\\Users\\CliffGaming\\Anaconda3\\lib\\site-packages\\sklearn\\neural_network\\_multilayer_perceptron.py:585: ConvergenceWarning: Stochastic Optimizer: Maximum iterations (200) reached and the optimization hasn't converged yet.\n",
      "  % self.max_iter, ConvergenceWarning)\n"
     ]
    },
    {
     "data": {
      "text/html": [
       "<div>\n",
       "<style scoped>\n",
       "    .dataframe tbody tr th:only-of-type {\n",
       "        vertical-align: middle;\n",
       "    }\n",
       "\n",
       "    .dataframe tbody tr th {\n",
       "        vertical-align: top;\n",
       "    }\n",
       "\n",
       "    .dataframe thead th {\n",
       "        text-align: right;\n",
       "    }\n",
       "</style>\n",
       "<table border=\"1\" class=\"dataframe\">\n",
       "  <thead>\n",
       "    <tr style=\"text-align: right;\">\n",
       "      <th></th>\n",
       "      <th>testing_accuracy</th>\n",
       "      <th>training_accuracy</th>\n",
       "    </tr>\n",
       "    <tr>\n",
       "      <th>neurons</th>\n",
       "      <th></th>\n",
       "      <th></th>\n",
       "    </tr>\n",
       "  </thead>\n",
       "  <tbody>\n",
       "    <tr>\n",
       "      <th>10.0</th>\n",
       "      <td>0.939799</td>\n",
       "      <td>0.977971</td>\n",
       "    </tr>\n",
       "    <tr>\n",
       "      <th>64.0</th>\n",
       "      <td>0.939799</td>\n",
       "      <td>1.000000</td>\n",
       "    </tr>\n",
       "    <tr>\n",
       "      <th>128.0</th>\n",
       "      <td>0.949833</td>\n",
       "      <td>1.000000</td>\n",
       "    </tr>\n",
       "    <tr>\n",
       "      <th>256.0</th>\n",
       "      <td>0.949833</td>\n",
       "      <td>1.000000</td>\n",
       "    </tr>\n",
       "  </tbody>\n",
       "</table>\n",
       "</div>"
      ],
      "text/plain": [
       "         testing_accuracy  training_accuracy\n",
       "neurons                                     \n",
       "10.0             0.939799           0.977971\n",
       "64.0             0.939799           1.000000\n",
       "128.0            0.949833           1.000000\n",
       "256.0            0.949833           1.000000"
      ]
     },
     "execution_count": 213,
     "metadata": {},
     "output_type": "execute_result"
    }
   ],
   "source": [
    "# identity activation function\n",
    "\n",
    "accuracy = over_fit(data, labels, 'identity')\n",
    "accuracy"
   ]
  },
  {
   "cell_type": "code",
   "execution_count": 214,
   "metadata": {},
   "outputs": [
    {
     "name": "stderr",
     "output_type": "stream",
     "text": [
      "C:\\Users\\CliffGaming\\Anaconda3\\lib\\site-packages\\sklearn\\neural_network\\_multilayer_perceptron.py:585: ConvergenceWarning: Stochastic Optimizer: Maximum iterations (200) reached and the optimization hasn't converged yet.\n",
      "  % self.max_iter, ConvergenceWarning)\n",
      "C:\\Users\\CliffGaming\\Anaconda3\\lib\\site-packages\\sklearn\\neural_network\\_multilayer_perceptron.py:585: ConvergenceWarning: Stochastic Optimizer: Maximum iterations (200) reached and the optimization hasn't converged yet.\n",
      "  % self.max_iter, ConvergenceWarning)\n",
      "C:\\Users\\CliffGaming\\Anaconda3\\lib\\site-packages\\sklearn\\neural_network\\_multilayer_perceptron.py:585: ConvergenceWarning: Stochastic Optimizer: Maximum iterations (200) reached and the optimization hasn't converged yet.\n",
      "  % self.max_iter, ConvergenceWarning)\n",
      "C:\\Users\\CliffGaming\\Anaconda3\\lib\\site-packages\\sklearn\\neural_network\\_multilayer_perceptron.py:585: ConvergenceWarning: Stochastic Optimizer: Maximum iterations (200) reached and the optimization hasn't converged yet.\n",
      "  % self.max_iter, ConvergenceWarning)\n",
      "C:\\Users\\CliffGaming\\Anaconda3\\lib\\site-packages\\sklearn\\neural_network\\_multilayer_perceptron.py:585: ConvergenceWarning: Stochastic Optimizer: Maximum iterations (200) reached and the optimization hasn't converged yet.\n",
      "  % self.max_iter, ConvergenceWarning)\n",
      "C:\\Users\\CliffGaming\\Anaconda3\\lib\\site-packages\\sklearn\\neural_network\\_multilayer_perceptron.py:585: ConvergenceWarning: Stochastic Optimizer: Maximum iterations (200) reached and the optimization hasn't converged yet.\n",
      "  % self.max_iter, ConvergenceWarning)\n"
     ]
    },
    {
     "data": {
      "text/html": [
       "<div>\n",
       "<style scoped>\n",
       "    .dataframe tbody tr th:only-of-type {\n",
       "        vertical-align: middle;\n",
       "    }\n",
       "\n",
       "    .dataframe tbody tr th {\n",
       "        vertical-align: top;\n",
       "    }\n",
       "\n",
       "    .dataframe thead th {\n",
       "        text-align: right;\n",
       "    }\n",
       "</style>\n",
       "<table border=\"1\" class=\"dataframe\">\n",
       "  <thead>\n",
       "    <tr style=\"text-align: right;\">\n",
       "      <th></th>\n",
       "      <th>testing_accuracy</th>\n",
       "      <th>training_accuracy</th>\n",
       "    </tr>\n",
       "    <tr>\n",
       "      <th>neurons</th>\n",
       "      <th></th>\n",
       "      <th></th>\n",
       "    </tr>\n",
       "  </thead>\n",
       "  <tbody>\n",
       "    <tr>\n",
       "      <th>10.0</th>\n",
       "      <td>0.923077</td>\n",
       "      <td>0.979973</td>\n",
       "    </tr>\n",
       "    <tr>\n",
       "      <th>64.0</th>\n",
       "      <td>0.966555</td>\n",
       "      <td>1.000000</td>\n",
       "    </tr>\n",
       "    <tr>\n",
       "      <th>128.0</th>\n",
       "      <td>0.976589</td>\n",
       "      <td>1.000000</td>\n",
       "    </tr>\n",
       "    <tr>\n",
       "      <th>256.0</th>\n",
       "      <td>0.979933</td>\n",
       "      <td>1.000000</td>\n",
       "    </tr>\n",
       "  </tbody>\n",
       "</table>\n",
       "</div>"
      ],
      "text/plain": [
       "         testing_accuracy  training_accuracy\n",
       "neurons                                     \n",
       "10.0             0.923077           0.979973\n",
       "64.0             0.966555           1.000000\n",
       "128.0            0.976589           1.000000\n",
       "256.0            0.979933           1.000000"
      ]
     },
     "execution_count": 214,
     "metadata": {},
     "output_type": "execute_result"
    }
   ],
   "source": [
    "# tanh activation function\n",
    "\n",
    "accuracy = over_fit(data, labels, 'tanh')\n",
    "accuracy"
   ]
  },
  {
   "cell_type": "code",
   "execution_count": 215,
   "metadata": {},
   "outputs": [
    {
     "name": "stderr",
     "output_type": "stream",
     "text": [
      "C:\\Users\\CliffGaming\\Anaconda3\\lib\\site-packages\\sklearn\\neural_network\\_multilayer_perceptron.py:585: ConvergenceWarning: Stochastic Optimizer: Maximum iterations (200) reached and the optimization hasn't converged yet.\n",
      "  % self.max_iter, ConvergenceWarning)\n",
      "C:\\Users\\CliffGaming\\Anaconda3\\lib\\site-packages\\sklearn\\neural_network\\_multilayer_perceptron.py:585: ConvergenceWarning: Stochastic Optimizer: Maximum iterations (200) reached and the optimization hasn't converged yet.\n",
      "  % self.max_iter, ConvergenceWarning)\n",
      "C:\\Users\\CliffGaming\\Anaconda3\\lib\\site-packages\\sklearn\\neural_network\\_multilayer_perceptron.py:585: ConvergenceWarning: Stochastic Optimizer: Maximum iterations (200) reached and the optimization hasn't converged yet.\n",
      "  % self.max_iter, ConvergenceWarning)\n",
      "C:\\Users\\CliffGaming\\Anaconda3\\lib\\site-packages\\sklearn\\neural_network\\_multilayer_perceptron.py:585: ConvergenceWarning: Stochastic Optimizer: Maximum iterations (200) reached and the optimization hasn't converged yet.\n",
      "  % self.max_iter, ConvergenceWarning)\n",
      "C:\\Users\\CliffGaming\\Anaconda3\\lib\\site-packages\\sklearn\\neural_network\\_multilayer_perceptron.py:585: ConvergenceWarning: Stochastic Optimizer: Maximum iterations (200) reached and the optimization hasn't converged yet.\n",
      "  % self.max_iter, ConvergenceWarning)\n",
      "C:\\Users\\CliffGaming\\Anaconda3\\lib\\site-packages\\sklearn\\neural_network\\_multilayer_perceptron.py:585: ConvergenceWarning: Stochastic Optimizer: Maximum iterations (200) reached and the optimization hasn't converged yet.\n",
      "  % self.max_iter, ConvergenceWarning)\n"
     ]
    },
    {
     "data": {
      "text/html": [
       "<div>\n",
       "<style scoped>\n",
       "    .dataframe tbody tr th:only-of-type {\n",
       "        vertical-align: middle;\n",
       "    }\n",
       "\n",
       "    .dataframe tbody tr th {\n",
       "        vertical-align: top;\n",
       "    }\n",
       "\n",
       "    .dataframe thead th {\n",
       "        text-align: right;\n",
       "    }\n",
       "</style>\n",
       "<table border=\"1\" class=\"dataframe\">\n",
       "  <thead>\n",
       "    <tr style=\"text-align: right;\">\n",
       "      <th></th>\n",
       "      <th>testing_accuracy</th>\n",
       "      <th>training_accuracy</th>\n",
       "    </tr>\n",
       "    <tr>\n",
       "      <th>neurons</th>\n",
       "      <th></th>\n",
       "      <th></th>\n",
       "    </tr>\n",
       "  </thead>\n",
       "  <tbody>\n",
       "    <tr>\n",
       "      <th>10.0</th>\n",
       "      <td>0.839465</td>\n",
       "      <td>0.90988</td>\n",
       "    </tr>\n",
       "    <tr>\n",
       "      <th>64.0</th>\n",
       "      <td>0.959866</td>\n",
       "      <td>1.00000</td>\n",
       "    </tr>\n",
       "    <tr>\n",
       "      <th>128.0</th>\n",
       "      <td>0.963211</td>\n",
       "      <td>1.00000</td>\n",
       "    </tr>\n",
       "    <tr>\n",
       "      <th>256.0</th>\n",
       "      <td>0.973244</td>\n",
       "      <td>1.00000</td>\n",
       "    </tr>\n",
       "  </tbody>\n",
       "</table>\n",
       "</div>"
      ],
      "text/plain": [
       "         testing_accuracy  training_accuracy\n",
       "neurons                                     \n",
       "10.0             0.839465            0.90988\n",
       "64.0             0.959866            1.00000\n",
       "128.0            0.963211            1.00000\n",
       "256.0            0.973244            1.00000"
      ]
     },
     "execution_count": 215,
     "metadata": {},
     "output_type": "execute_result"
    }
   ],
   "source": [
    "# logistic activation function\n",
    "\n",
    "accuracy = over_fit(data, labels, 'logistic')\n",
    "accuracy\n",
    "\n"
   ]
  },
  {
   "cell_type": "markdown",
   "metadata": {},
   "source": [
    "## Conclusions\n",
    "\n",
    "Relu provided the most accuracy results, with logistic and tanh following closely behind.  The identity function, unsurprisingly performed worse, since it performed no output change at all after weights were adjusted within the connections of the neural network."
   ]
  },
  {
   "cell_type": "markdown",
   "metadata": {},
   "source": [
    "## Random Forest Classifier\n",
    "\n",
    "We will now test the Random Forest Classifier to see how well it can perform compared to a neural net or a knn algorithm.\n",
    "\n"
   ]
  },
  {
   "cell_type": "code",
   "execution_count": 216,
   "metadata": {},
   "outputs": [
    {
     "name": "stdout",
     "output_type": "stream",
     "text": [
      "Tree:  100 Accuracy:  0.9510423634336679\n",
      "Tree:  300 Accuracy:  0.9527034559643255\n",
      "Tree:  500 Accuracy:  0.9510349312523224\n",
      "Tree:  1000 Accuracy:  0.9521423262727611\n"
     ]
    }
   ],
   "source": [
    "# importing random forest classifier\n",
    "from sklearn.ensemble import RandomForestClassifier\n",
    "\n",
    "accuracies = []  # to keep track of accuracy from each forest with varying number of trees\n",
    "\n",
    "trees = [100,300,500,1000]   # number of trees in random forest\n",
    "\n",
    "\n",
    "# looping through tree list and making predictions using random forests\n",
    "for tree in trees:\n",
    "    rf = RandomForestClassifier(n_estimators=tree, random_state=0, n_jobs=8)  # creating random forest object\n",
    "\n",
    "    scores = cross_val_score(rf, data, labels, cv=6, scoring='accuracy', n_jobs=8) # performing k-fold cross_validation)\n",
    "    accuracy = scores.mean()\n",
    "    accuracies.append(accuracy)\n",
    "    \n",
    "for i in range(4):\n",
    "    print('Tree: ', trees[i], 'Accuracy: ', accuracies[i])\n",
    "    "
   ]
  },
  {
   "cell_type": "markdown",
   "metadata": {},
   "source": [
    "## Conclusion\n",
    "\n",
    "Random Forest was not as accurate at image classification as a neural network.  The number of trees didn't seem to increase accuracy much at all."
   ]
  }
 ],
 "metadata": {
  "anaconda-cloud": {},
  "kernelspec": {
   "display_name": "Python 3",
   "language": "python",
   "name": "python3"
  },
  "language_info": {
   "codemirror_mode": {
    "name": "ipython",
    "version": 3
   },
   "file_extension": ".py",
   "mimetype": "text/x-python",
   "name": "python",
   "nbconvert_exporter": "python",
   "pygments_lexer": "ipython3",
   "version": "3.7.3"
  }
 },
 "nbformat": 4,
 "nbformat_minor": 2
}
